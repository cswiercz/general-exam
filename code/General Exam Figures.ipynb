{
 "metadata": {
  "name": ""
 },
 "nbformat": 3,
 "nbformat_minor": 0,
 "worksheets": [
  {
   "cells": [
    {
     "cell_type": "code",
     "collapsed": false,
     "input": [
      "# Either install abelfunctions or navigate to the directory contianing it. Make sure abelfunctions is compiled first.\n",
      "import os\n",
      "os.chdir('/Users/cswiercz/abelfunctions')\n",
      "\n",
      "# TODO: clean up the importing behavior of abelfunctions\n",
      "from abelfunctions import *\n",
      "from abelfunctions.riemanntheta import RiemannTheta\n",
      "from abelfunctions.riemannsurface.riemannsurface import RiemannSurface\n",
      "from abelfunctions.riemannsurface.riemannsurface_path import RiemannSurfacePath\n",
      "from abelfunctions.singularities import genus\n",
      "\n",
      "os.chdir('/Users/cswiercz/general-exam/code')\n",
      "\n",
      "import numpy\n",
      "import scipy\n",
      "import sympy\n",
      "from sympy.abc import x,y\n",
      "\n",
      "import matplotlib.pyplot as plt"
     ],
     "language": "python",
     "metadata": {},
     "outputs": [],
     "prompt_number": 8
    },
    {
     "cell_type": "code",
     "collapsed": false,
     "input": [
      "f = y**3 + 2*x**3*y - x**7\n",
      "f = sympy.lambdify((x,y), f, 'numpy')"
     ],
     "language": "python",
     "metadata": {},
     "outputs": [],
     "prompt_number": 2
    },
    {
     "cell_type": "code",
     "collapsed": false,
     "input": [
      "x = numpy.linspace(-1.5,1.5,128)\n",
      "y = x\n",
      "X,Y = numpy.meshgrid(x,y)\n",
      "F = f(X,Y)"
     ],
     "language": "python",
     "metadata": {},
     "outputs": [],
     "prompt_number": 3
    },
    {
     "cell_type": "code",
     "collapsed": false,
     "input": [
      "%matplotlib inline\n",
      "\n",
      "fig = plt.figure()\n",
      "ax = fig.add_subplot(1,1,1, aspect=1)\n",
      "\n",
      "ax.contour(X, Y, F, [0], linewidths=2)\n",
      "\n",
      "ax.set_xlabel('$x$', fontsize=14)\n",
      "ax.set_ylabel('$y$', fontsize=14, rotation='horizontal')\n",
      "ax.set_xticks([-1,0,1])\n",
      "ax.set_yticks([-1,0,1])\n",
      "ax.grid(True)\n",
      "\n",
      "ax.set_title('$f(x,y) = 0$', fontsize=14)"
     ],
     "language": "python",
     "metadata": {},
     "outputs": [
      {
       "metadata": {},
       "output_type": "pyout",
       "prompt_number": 4,
       "text": [
        "<matplotlib.text.Text at 0x106e3f410>"
       ]
      },
      {
       "metadata": {},
       "output_type": "display_data",
       "png": "[encoded data removed]",
       "text": [
        "<matplotlib.figure.Figure at 0x106bb8490>"
       ]
      }
     ],
     "prompt_number": 4
    },
    {
     "cell_type": "code",
     "collapsed": false,
     "input": [
      "#fig.savefig('singularities-example.eps')"
     ],
     "language": "python",
     "metadata": {},
     "outputs": [],
     "prompt_number": 5
    },
    {
     "cell_type": "markdown",
     "metadata": {},
     "source": [
      "Section 2.1\n",
      "==========="
     ]
    },
    {
     "cell_type": "code",
     "collapsed": false,
     "input": [
      "from sympy.abc import x,y,t\n",
      "\n",
      "f = y**3 + 2*x**3*y - x**7\n",
      "print sympy.latex(f)"
     ],
     "language": "python",
     "metadata": {},
     "outputs": [
      {
       "output_type": "stream",
       "stream": "stdout",
       "text": [
        "- x^{7} + 2 x^{3} y + y^{3}\n"
       ]
      }
     ],
     "prompt_number": 31
    },
    {
     "cell_type": "code",
     "collapsed": false,
     "input": [
      "P = puiseux.puiseux(f, x, y, 0, nterms=3, parametric=t)\n",
      "\n",
      "for Pj in P:\n",
      "    sympy.pprint(Pj, use_unicode=False)\n",
      "    print"
     ],
     "language": "python",
     "metadata": {},
     "outputs": [
      {
       "output_type": "stream",
       "stream": "stdout",
       "text": [
        "       14    9    4 \n",
        "    3*t     t    t  \n",
        "(t, ----- - -- + --)\n",
        "     128    16   2  \n",
        "\n",
        "   2      13    8    3 \n",
        " -t    3*t     t    t  \n",
        "(----, ----- - -- - --)\n",
        "  2     4096   64   2  \n",
        "\n"
       ]
      }
     ],
     "prompt_number": 29
    },
    {
     "cell_type": "code",
     "collapsed": false,
     "input": [
      "p = sympy.Poly(f,[x,y])\n",
      "res = sympy.Poly(sympy.resultant(p,p.diff(y),y),x)\n",
      "\n",
      "sympy.pprint(res)"
     ],
     "language": "python",
     "metadata": {},
     "outputs": [
      {
       "output_type": "stream",
       "stream": "stdout",
       "text": [
        "Poly(27*x**14 + 32*x**9, x, domain='ZZ')\n"
       ]
      }
     ],
     "prompt_number": 76
    },
    {
     "cell_type": "code",
     "collapsed": false,
     "input": [
      "P = puiseux.puiseux(f,x,y,res.root(0),nterms=3, parametric=t)\n",
      "for Pj in P:\n",
      "    sympy.pprint(Pj, use_unicode=False)\n",
      "    print"
     ],
     "language": "python",
     "metadata": {},
     "outputs": [
      {
       "output_type": "stream",
       "stream": "stdout",
       "text": [
        "        2/5         4/5  2      5 ___        3/5 \n",
        "     2*3       436*3   *t    64*\\/ 3 *t   8*3    \n",
        "(t - ------, - ----------- + ---------- - ------)\n",
        "       3           729           27         9    \n",
        "\n",
        "    5 ___  2      2/5       2/5  2          3/5 \n",
        " 27*\\/ 3 *t    2*3       4*3   *t        4*3    \n",
        "(----------- - ------, - --------- + t + ------)\n",
        "      40         3           5             9    \n",
        "\n"
       ]
      }
     ],
     "prompt_number": 79
    },
    {
     "cell_type": "code",
     "collapsed": false,
     "input": [
      "    "
     ],
     "language": "python",
     "metadata": {},
     "outputs": [
      {
       "output_type": "stream",
       "stream": "stderr",
       "text": [
        "/Users/cswiercz/anaconda/lib/python2.7/site-packages/matplotlib/figure.py:371: UserWarning: matplotlib is currently using a non-GUI backend, so cannot show the figure\n",
        "  \"matplotlib is currently using a non-GUI backend, \"\n"
       ]
      },
      {
       "metadata": {},
       "output_type": "display_data",
       "png": "[encoded data removed]",
       "text": [
        "<matplotlib.figure.Figure at 0x108800990>"
       ]
      }
     ],
     "prompt_number": 73
    },
    {
     "cell_type": "code",
     "collapsed": false,
     "input": [],
     "language": "python",
     "metadata": {},
     "outputs": []
    },
    {
     "cell_type": "code",
     "collapsed": false,
     "input": [
      "f = x**4 + x**2 * y**2 - 3*x**2 + y**4 - 3*y**2 + 2\n",
      "F = sympy.lambdify((x,y), f, 'numpy')"
     ],
     "language": "python",
     "metadata": {},
     "outputs": []
    },
    {
     "cell_type": "code",
     "collapsed": false,
     "input": [
      "import numpy\n",
      "\n",
      "x = numpy.linspace(-2,2,128)\n",
      "y = x\n",
      "X,Y = numpy.meshgrid(x,y)\n",
      "U = F(X,Y)"
     ],
     "language": "python",
     "metadata": {},
     "outputs": []
    },
    {
     "cell_type": "code",
     "collapsed": false,
     "input": [
      "%matplotlib inline\n",
      "\n",
      "fig = plt.figure()\n",
      "ax = fig.add_subplot(1,1,1, aspect=1)\n",
      "\n",
      "ax.contour(X, Y, U, [0], linewidths=2)\n",
      "\n",
      "ax.set_xlabel('$x$', fontsize=14)\n",
      "ax.set_ylabel('$y$', fontsize=14, rotation='horizontal')\n",
      "ax.set_xticks([-2,-1,0,1,2])\n",
      "ax.set_yticks([-2,-1,0,1,2])\n",
      "ax.set_title('$f(x,y) = 0$', fontsize=14)\n",
      "\n",
      "fig.savefig('heltonvinnikov.eps')"
     ],
     "language": "python",
     "metadata": {},
     "outputs": []
    },
    {
     "cell_type": "code",
     "collapsed": false,
     "input": [
      "fig = plt.gcf()"
     ],
     "language": "python",
     "metadata": {},
     "outputs": []
    },
    {
     "cell_type": "code",
     "collapsed": false,
     "input": [
      "ax = fig.gca()"
     ],
     "language": "python",
     "metadata": {},
     "outputs": []
    },
    {
     "cell_type": "code",
     "collapsed": false,
     "input": [
      "fig.show()"
     ],
     "language": "python",
     "metadata": {},
     "outputs": []
    },
    {
     "cell_type": "code",
     "collapsed": false,
     "input": [
      "import sympy\n",
      "sympy.__version__"
     ],
     "language": "python",
     "metadata": {},
     "outputs": []
    },
    {
     "cell_type": "markdown",
     "metadata": {},
     "source": [
      "Section 3\n",
      "========="
     ]
    },
    {
     "cell_type": "code",
     "collapsed": false,
     "input": [
      "# Either install abelfunctions or navigate to the directory contianing it. Make sure abelfunctions is compiled first.\n",
      "import os\n",
      "os.chdir('/Users/cswiercz/abelfunctions')\n",
      "\n",
      "# TODO: clean up the importing behavior of abelfunctions\n",
      "from abelfunctions import *\n",
      "from abelfunctions.riemanntheta import RiemannTheta\n",
      "from abelfunctions.riemannsurface.riemannsurface import RiemannSurface\n",
      "from abelfunctions.riemannsurface.riemannsurface_path import RiemannSurfacePath\n",
      "from abelfunctions.singularities import genus"
     ],
     "language": "python",
     "metadata": {},
     "outputs": [],
     "prompt_number": 9
    },
    {
     "cell_type": "code",
     "collapsed": false,
     "input": [
      "from sympy.abc import x,y,t\n",
      "\n",
      "f = y**3 + 2*x**3*y - x**7\n",
      "X = RiemannSurface(f,x,y)"
     ],
     "language": "python",
     "metadata": {},
     "outputs": [],
     "prompt_number": 13
    },
    {
     "cell_type": "code",
     "collapsed": false,
     "input": [
      "P = puiseux.puiseux(f, x, y, 0, nterms=3, parametric=t)\n",
      "\n",
      "for Pj in P:\n",
      "    sympy.pprint(Pj, use_unicode=False)\n",
      "    print"
     ],
     "language": "python",
     "metadata": {},
     "outputs": [
      {
       "output_type": "stream",
       "stream": "stdout",
       "text": [
        "       14    9    4 \n",
        "    3*t     t    t  \n",
        "(t, ----- - -- + --)\n",
        "     128    16   2  \n",
        "\n",
        "   2      13    8    3 \n",
        " -t    3*t     t    t  \n",
        "(----, ----- - -- - --)\n",
        "  2     4096   64   2  \n",
        "\n"
       ]
      }
     ],
     "prompt_number": 11
    },
    {
     "cell_type": "code",
     "collapsed": false,
     "input": [
      "S = singularities.singularities(f,x,y)\n",
      "\n",
      "for s,(m,delta,r) in S:\n",
      "    if s[0] == 0:\n",
      "        print 'Infinite Singularity at:', s\n",
      "    else\n",
      "        print 'Finite Singularity at:  ', s\n",
      "    print '  multiplicity     =', m\n",
      "    print '  delta invariant  =', delta\n",
      "    print '  branching number =', r\n",
      "    print"
     ],
     "language": "python",
     "metadata": {},
     "outputs": [
      {
       "output_type": "stream",
       "stream": "stdout",
       "text": [
        "Singularity at: (0, 0, 1)\n",
        "  multiplicity     = 3\n",
        "  delta invariant  = 4\n",
        "  branching number = 2\n",
        "\n",
        "Singularity at: (0, 1, 0)\n",
        "  multiplicity     = 4\n",
        "  delta invariant  = 9\n",
        "  branching number = 1\n",
        "\n"
       ]
      }
     ],
     "prompt_number": 19
    },
    {
     "cell_type": "code",
     "collapsed": false,
     "input": [
      "d = 7  # the homogenous degree of f is 7\n",
      "g = (d-1)*(d-2)/2\n",
      "\n",
      "for s,(m,delta,r) in S:\n",
      "    g -= delta\n",
      "    \n",
      "print 'degree       =', d\n",
      "print 'genus        =', g\n",
      "print 'genus(f,x,y) =', singularities.genus(f,x,y)"
     ],
     "language": "python",
     "metadata": {},
     "outputs": [
      {
       "output_type": "stream",
       "stream": "stdout",
       "text": [
        "degree       = 7\n",
        "genus        = 2\n",
        "genus(f,x,y) = 2\n"
       ]
      }
     ],
     "prompt_number": 24
    },
    {
     "cell_type": "code",
     "collapsed": false,
     "input": [
      "from sympy.abc import x,y,t\n",
      "\n",
      "f = y**3 + 2*x**3*y - x**7\n",
      "X = RiemannSurface(f,x,y)\n",
      "oneforms = X.holomorphic_differentials()\n",
      "\n",
      "for omega in oneforms:\n",
      "    print 'omega(x,y) =\\n'\n",
      "    sympy.pprint(omega, use_unicode=False)\n",
      "    print"
     ],
     "language": "python",
     "metadata": {},
     "outputs": [
      {
       "output_type": "stream",
       "stream": "stdout",
       "text": [
        "omega(x,y) =\n",
        "\n",
        "    x*y    \n",
        "-----------\n",
        "   3      2\n",
        "2*x  + 3*y \n",
        "\n",
        "omega(x,y) =\n",
        "\n",
        "      3    \n",
        "     x     \n",
        "-----------\n",
        "   3      2\n",
        "2*x  + 3*y \n",
        "\n"
       ]
      }
     ],
     "prompt_number": 26
    },
    {
     "cell_type": "code",
     "collapsed": false,
     "input": [
      "%matplotlib osx\n",
      "\n",
      "import matplotlib.pyplot as plt\n",
      "from sympy.abc import x,y,t\n",
      "\n",
      "f = y**3 + 2*x**3*y - x**7\n",
      "X = RiemannSurface(f,x,y)\n",
      "\n",
      "b = X.branch_points()\n",
      "pi_1 = X.monodromy_group()\n",
      "\n",
      "for bj,pi_1j in zip(b,pi_1):\n",
      "    print 'branch point:', bj\n",
      "    print 'permutation: ', pi_1j\n",
      "    print"
     ],
     "language": "python",
     "metadata": {},
     "outputs": [
      {
       "output_type": "stream",
       "stream": "stdout",
       "text": [
        "branch point: (-0.31969776999-0.983928563571j)\n",
        "permutation:  [(0, 2), (1,)]\n",
        "\n",
        "branch point: (0.836979627962-0.608101294789j)\n",
        "permutation:  [(0,), (1, 2)]\n",
        "\n",
        "branch point: (-1.03456371594+0j)\n",
        "permutation:  [(0,), (1, 2)]\n",
        "\n",
        "branch point: 0j\n",
        "permutation:  [(0, 2), (1,)]\n",
        "\n",
        "branch point: (0.836979627962+0.608101294789j)\n",
        "permutation:  [(0,), (1, 2)]\n",
        "\n",
        "branch point: (-0.31969776999+0.983928563571j)\n",
        "permutation:  [(0, 1), (2,)]\n",
        "\n",
        "branch point: oo\n",
        "permutation:  [(0, 2, 1)]\n",
        "\n"
       ]
      }
     ],
     "prompt_number": 62
    },
    {
     "cell_type": "code",
     "collapsed": false,
     "input": [
      "X.show_paths()\n",
      "\n",
      "fig = plt.gcf()\n",
      "fig.set_size_inches(5,5)\n",
      "#fig.savefig('/Users/cswiercz/Desktop/foo.pdf')"
     ],
     "language": "python",
     "metadata": {},
     "outputs": [],
     "prompt_number": 63
    },
    {
     "cell_type": "code",
     "collapsed": false,
     "input": [
      "print fig.__repr__()"
     ],
     "language": "python",
     "metadata": {},
     "outputs": [
      {
       "output_type": "stream",
       "stream": "stdout",
       "text": [
        "<matplotlib.figure.Figure object at 0x107d60810>\n"
       ]
      }
     ],
     "prompt_number": 68
    },
    {
     "cell_type": "code",
     "collapsed": false,
     "input": [
      "from sympy.abc import x,y,t\n",
      "\n",
      "f = y**3 + 2*x**3*y - x**7\n",
      "X = RiemannSurface(f,x,y)\n",
      "g = X.genus()\n",
      "a,b = X.homology()"
     ],
     "language": "python",
     "metadata": {},
     "outputs": [],
     "prompt_number": 69
    },
    {
     "cell_type": "code",
     "collapsed": false,
     "input": [
      "for i in range(g):\n",
      "    print 'a_%d:'%i\n",
      "    for elt in a[i]: print elt\n",
      "    print\n",
      "    \n",
      "for i in range(g):\n",
      "    print 'b_%d:'%i\n",
      "    print b[i]\n",
      "    print"
     ],
     "language": "python",
     "metadata": {},
     "outputs": [
      {
       "output_type": "stream",
       "stream": "stdout",
       "text": [
        "a_0:\n",
        "[0, ((-0.31969776999025984-0.9839285635706635j), 1), 2, ((-1.0345637159435732+0j), -1), 1, ((-0.31969776999025984+0.9839285635706635j), -1), 0]\n",
        "\n",
        "a_1:\n",
        "[0, (0j, 1), 2, ((-0.31969776999025984-0.9839285635706635j), -1), 0]\n",
        "\n",
        "b_0:\n",
        "[0, ((-0.31969776999025984+0.9839285635706635j), 1), 1, ((0.8369796279620464-0.6081012947885316j), 1), 2, ((-0.31969776999025984-0.9839285635706635j), -1), 0]\n",
        "\n",
        "b_1:\n",
        "[0, ((-0.31969776999025984-0.9839285635706635j), 1), 2, ((-1.0345637159435732+0j), -1), 1, ((-0.31969776999025984+0.9839285635706635j), -1), 0, (oo, 1), 2, ((-0.31969776999025984-0.9839285635706635j), -1), 0, ((-0.31969776999025984+0.9839285635706635j), 1), 1, ((0.8369796279620464-0.6081012947885316j), 1), 2, ((-0.31969776999025984-0.9839285635706635j), -1), 0]\n",
        "\n"
       ]
      }
     ],
     "prompt_number": 71
    },
    {
     "cell_type": "code",
     "collapsed": false,
     "input": [
      "alpha = X.base_point()\n",
      "betas = X.base_lift()\n",
      "P0 = alpha, betas\n",
      "\n",
      "gamma = RiemannSurfacePath((f,x,y), P0, cycle = a[0])"
     ],
     "language": "python",
     "metadata": {},
     "outputs": [],
     "prompt_number": 72
    },
    {
     "cell_type": "code",
     "collapsed": false,
     "input": [
      "%matplotlib osx\n",
      "\n",
      "gamma.plot(512)\n",
      "fig = plt.gcf()\n",
      "fig.set_size_inches(5,5)\n",
      "fig.savefig('/Users/cswiercz/Desktop/foo.pdf')"
     ],
     "language": "python",
     "metadata": {},
     "outputs": [],
     "prompt_number": 91
    },
    {
     "cell_type": "code",
     "collapsed": false,
     "input": [],
     "language": "python",
     "metadata": {},
     "outputs": [],
     "prompt_number": 88
    },
    {
     "cell_type": "code",
     "collapsed": false,
     "input": [
      "fig.show()"
     ],
     "language": "python",
     "metadata": {},
     "outputs": [],
     "prompt_number": 83
    },
    {
     "cell_type": "code",
     "collapsed": false,
     "input": [
      "fig"
     ],
     "language": "python",
     "metadata": {},
     "outputs": [
      {
       "metadata": {},
       "output_type": "pyout",
       "prompt_number": 84,
       "text": [
        "<matplotlib.figure.Figure at 0x106e9cd90>"
       ]
      }
     ],
     "prompt_number": 84
    },
    {
     "cell_type": "code",
     "collapsed": false,
     "input": [],
     "language": "python",
     "metadata": {},
     "outputs": []
    }
   ],
   "metadata": {}
  }
 ]
}