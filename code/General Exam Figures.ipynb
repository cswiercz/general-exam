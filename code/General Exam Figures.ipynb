{
 "metadata": {
  "name": ""
 },
 "nbformat": 3,
 "nbformat_minor": 0,
 "worksheets": [
  {
   "cells": [
    {
     "cell_type": "code",
     "collapsed": false,
     "input": [
      "# Either install abelfunctions or navigate to the directory contianing it. Make sure abelfunctions is compiled first.\n",
      "import os\n",
      "os.chdir('/Users/cswiercz/abelfunctions')\n",
      "\n",
      "# TODO: clean up the importing behavior of abelfunctions\n",
      "from abelfunctions import *\n",
      "from abelfunctions.riemanntheta import RiemannTheta\n",
      "from abelfunctions.riemannsurface.riemannsurface import RiemannSurface\n",
      "from abelfunctions.riemannsurface.riemannsurface_path import RiemannSurfacePath\n",
      "from abelfunctions.singularities import genus\n",
      "\n",
      "os.chdir('/Users/cswiercz/general-exam/code')\n",
      "\n",
      "import numpy\n",
      "import scipy\n",
      "import sympy\n",
      "from sympy.abc import x,y\n",
      "\n",
      "import matplotlib.pyplot as plt"
     ],
     "language": "python",
     "metadata": {},
     "outputs": []
    },
    {
     "cell_type": "code",
     "collapsed": false,
     "input": [
      "f = y**3 + 2*x**3*y - x**7\n",
      "f = sympy.lambdify((x,y), f, 'numpy')"
     ],
     "language": "python",
     "metadata": {},
     "outputs": []
    },
    {
     "cell_type": "code",
     "collapsed": false,
     "input": [
      "x = numpy.linspace(-1.5,1.5,128)\n",
      "y = x\n",
      "X,Y = numpy.meshgrid(x,y)\n",
      "F = f(X,Y)"
     ],
     "language": "python",
     "metadata": {},
     "outputs": []
    },
    {
     "cell_type": "code",
     "collapsed": false,
     "input": [
      "%matplotlib inline\n",
      "\n",
      "fig = plt.figure()\n",
      "ax = fig.add_subplot(1,1,1, aspect=1)\n",
      "\n",
      "ax.contour(X, Y, F, [0], linewidths=2)\n",
      "\n",
      "ax.set_xlabel('$x$', fontsize=14)\n",
      "ax.set_ylabel('$y$', fontsize=14, rotation='horizontal')\n",
      "ax.set_xticks([-1,0,1])\n",
      "ax.set_yticks([-1,0,1])\n",
      "ax.grid(True)\n",
      "\n",
      "ax.set_title('$f(x,y) = 0$', fontsize=14)"
     ],
     "language": "python",
     "metadata": {},
     "outputs": []
    },
    {
     "cell_type": "code",
     "collapsed": false,
     "input": [
      "#fig.savefig('singularities-example.eps')"
     ],
     "language": "python",
     "metadata": {},
     "outputs": []
    },
    {
     "cell_type": "markdown",
     "metadata": {},
     "source": [
      "Section 2.1\n",
      "==========="
     ]
    },
    {
     "cell_type": "code",
     "collapsed": false,
     "input": [
      "from sympy.abc import x,y,t\n",
      "\n",
      "f = y**3 + 2*x**3*y - x**7\n",
      "print sympy.latex(f)"
     ],
     "language": "python",
     "metadata": {},
     "outputs": [
      {
       "output_type": "stream",
       "stream": "stdout",
       "text": [
        "- x^{7} + 2 x^{3} y + y^{3}\n"
       ]
      }
     ],
     "prompt_number": 31
    },
    {
     "cell_type": "code",
     "collapsed": false,
     "input": [
      "P = puiseux.puiseux(f, x, y, 0, nterms=3, parametric=t)\n",
      "\n",
      "for Pj in P:\n",
      "    sympy.pprint(Pj, use_unicode=False)\n",
      "    print"
     ],
     "language": "python",
     "metadata": {},
     "outputs": [
      {
       "output_type": "stream",
       "stream": "stdout",
       "text": [
        "       14    9    4 \n",
        "    3*t     t    t  \n",
        "(t, ----- - -- + --)\n",
        "     128    16   2  \n",
        "\n",
        "   2      13    8    3 \n",
        " -t    3*t     t    t  \n",
        "(----, ----- - -- - --)\n",
        "  2     4096   64   2  \n",
        "\n"
       ]
      }
     ],
     "prompt_number": 29
    },
    {
     "cell_type": "code",
     "collapsed": false,
     "input": [
      "p = sympy.Poly(f,[x,y])\n",
      "res = sympy.Poly(sympy.resultant(p,p.diff(y),y),x)\n",
      "\n",
      "sympy.pprint(res)"
     ],
     "language": "python",
     "metadata": {},
     "outputs": [
      {
       "output_type": "stream",
       "stream": "stdout",
       "text": [
        "Poly(27*x**14 + 32*x**9, x, domain='ZZ')\n"
       ]
      }
     ],
     "prompt_number": 76
    },
    {
     "cell_type": "code",
     "collapsed": false,
     "input": [
      "P = puiseux.puiseux(f,x,y,res.root(0),nterms=3, parametric=t)\n",
      "for Pj in P:\n",
      "    sympy.pprint(Pj, use_unicode=False)\n",
      "    print"
     ],
     "language": "python",
     "metadata": {},
     "outputs": [
      {
       "output_type": "stream",
       "stream": "stdout",
       "text": [
        "        2/5         4/5  2      5 ___        3/5 \n",
        "     2*3       436*3   *t    64*\\/ 3 *t   8*3    \n",
        "(t - ------, - ----------- + ---------- - ------)\n",
        "       3           729           27         9    \n",
        "\n",
        "    5 ___  2      2/5       2/5  2          3/5 \n",
        " 27*\\/ 3 *t    2*3       4*3   *t        4*3    \n",
        "(----------- - ------, - --------- + t + ------)\n",
        "      40         3           5             9    \n",
        "\n"
       ]
      }
     ],
     "prompt_number": 79
    },
    {
     "cell_type": "code",
     "collapsed": false,
     "input": [
      "    "
     ],
     "language": "python",
     "metadata": {},
     "outputs": [
      {
       "output_type": "stream",
       "stream": "stderr",
       "text": [
        "/Users/cswiercz/anaconda/lib/python2.7/site-packages/matplotlib/figure.py:371: UserWarning: matplotlib is currently using a non-GUI backend, so cannot show the figure\n",
        "  \"matplotlib is currently using a non-GUI backend, \"\n"
       ]
      },
      {
       "metadata": {},
       "output_type": "display_data",
       "png": "[encoded data removed]",
       "text": [
        "<matplotlib.figure.Figure at 0x108800990>"
       ]
      }
     ],
     "prompt_number": 73
    },
    {
     "cell_type": "code",
     "collapsed": false,
     "input": [],
     "language": "python",
     "metadata": {},
     "outputs": []
    },
    {
     "cell_type": "code",
     "collapsed": false,
     "input": [
      "f = x**4 + x**2 * y**2 - 3*x**2 + y**4 - 3*y**2 + 2\n",
      "F = sympy.lambdify((x,y), f, 'numpy')"
     ],
     "language": "python",
     "metadata": {},
     "outputs": []
    },
    {
     "cell_type": "code",
     "collapsed": false,
     "input": [
      "import numpy\n",
      "\n",
      "x = numpy.linspace(-2,2,128)\n",
      "y = x\n",
      "X,Y = numpy.meshgrid(x,y)\n",
      "U = F(X,Y)"
     ],
     "language": "python",
     "metadata": {},
     "outputs": []
    },
    {
     "cell_type": "code",
     "collapsed": false,
     "input": [
      "%matplotlib inline\n",
      "\n",
      "fig = plt.figure()\n",
      "ax = fig.add_subplot(1,1,1, aspect=1)\n",
      "\n",
      "ax.contour(X, Y, U, [0], linewidths=2)\n",
      "\n",
      "ax.set_xlabel('$x$', fontsize=14)\n",
      "ax.set_ylabel('$y$', fontsize=14, rotation='horizontal')\n",
      "ax.set_xticks([-2,-1,0,1,2])\n",
      "ax.set_yticks([-2,-1,0,1,2])\n",
      "ax.set_title('$f(x,y) = 0$', fontsize=14)\n",
      "\n",
      "fig.savefig('heltonvinnikov.eps')"
     ],
     "language": "python",
     "metadata": {},
     "outputs": []
    },
    {
     "cell_type": "code",
     "collapsed": false,
     "input": [
      "fig = plt.gcf()"
     ],
     "language": "python",
     "metadata": {},
     "outputs": []
    },
    {
     "cell_type": "code",
     "collapsed": false,
     "input": [
      "ax = fig.gca()"
     ],
     "language": "python",
     "metadata": {},
     "outputs": []
    },
    {
     "cell_type": "code",
     "collapsed": false,
     "input": [
      "fig.show()"
     ],
     "language": "python",
     "metadata": {},
     "outputs": []
    },
    {
     "cell_type": "code",
     "collapsed": false,
     "input": [
      "import sympy\n",
      "sympy.__version__"
     ],
     "language": "python",
     "metadata": {},
     "outputs": []
    },
    {
     "cell_type": "code",
     "collapsed": false,
     "input": [],
     "language": "python",
     "metadata": {},
     "outputs": []
    }
   ],
   "metadata": {}
  }
 ]
}