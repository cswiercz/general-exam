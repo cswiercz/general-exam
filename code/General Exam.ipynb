{
 "metadata": {
  "name": ""
 },
 "nbformat": 3,
 "nbformat_minor": 0,
 "worksheets": [
  {
   "cells": [
    {
     "cell_type": "code",
     "collapsed": false,
     "input": [
      "%pylab inline\n",
      "\n",
      "import pylab\n",
      "from mpl_toolkits.mplot3d import Axes3D\n",
      "pylab.rcParams['figure.figsize'] = 16, 10"
     ],
     "language": "python",
     "metadata": {
      "slideshow": {
       "slide_type": "-"
      }
     },
     "outputs": []
    },
    {
     "cell_type": "markdown",
     "metadata": {},
     "source": [
      "abelfunctions\n",
      "=============\n",
      "\n",
      "*A Python library for computing with Riemann surfaces and Abelian functions.*\n",
      "\n",
      "* [Documentation](http://www.cswiercz.info/abelfunctions)\n",
      "* [Source and Download](http://github.com/cswiercz/abelfunctions)"
     ]
    },
    {
     "cell_type": "code",
     "collapsed": false,
     "input": [
      "# Either install abelfunctions or navigate to the directory contianing it. Make sure abelfunctions is compiled first.\n",
      "import os\n",
      "os.chdir('/Users/cswiercz/abelfunctions')\n",
      "\n",
      "# TODO: clean up the importing behavior of abelfunctions\n",
      "from abelfunctions import *\n",
      "from abelfunctions.riemanntheta import RiemannTheta\n",
      "from abelfunctions.riemannsurface.riemannsurface import RiemannSurface\n",
      "from abelfunctions.riemannsurface.riemannsurface_path import RiemannSurfacePath\n",
      "from abelfunctions.singularities import genus"
     ],
     "language": "python",
     "metadata": {},
     "outputs": []
    },
    {
     "cell_type": "markdown",
     "metadata": {},
     "source": [
      "Riemann Theta Functions\n",
      "=======================\n",
      "\n",
      "We compute $\\theta(z,\\Omega)$ for a given $\\Omega \\in \\mathfrak{h}_2$ and a bunch of points $z \\in \\mathbb{C}^2$ of the form $z = (z_1,0)$. We plot the real and imaginary parts of $\\theta$ as a functions of $z_1$."
     ]
    },
    {
     "cell_type": "code",
     "collapsed": false,
     "input": [
      "Omega = np.array(\n",
      "    [[-1.30901699+0.95105652j, -0.80901699+0.58778525j],\n",
      "     [-0.80901699+0.58778525j, -1.00000000+1.1755705j ]],\n",
      "    dtype=numpy.complex\n",
      "    )\n",
      "                 \n",
      "#                 [[1.690983006 + .951056516*1.0j, 1.5 + .363271264*1.0j],\n",
      "#                   [1.5 + .363271264*1.0j, 1.309016994 + .951056516*1.0j]])\n",
      "\n",
      "# compute\n",
      "#\n",
      "# theta(z,Omega)\n",
      "#\n",
      "# for a bunch of z1's\n",
      "\n",
      "N = 128\n",
      "#X,Y = mgrid[-1:1:N*1.0j, 0.1:0.6:N*1.0j]   # create the real and imaginary axes\n",
      "X,Y = mgrid[-1:1:N*1.0j, .1:0.6:N*1.0j]   # create the real and imaginary axes\n",
      "Z = X + Y*1.0j                              # create the complex plane\n",
      "Z = Z.flatten()"
     ],
     "language": "python",
     "metadata": {},
     "outputs": []
    },
    {
     "cell_type": "code",
     "collapsed": false,
     "input": [
      "%time\n",
      "U = RiemannTheta(\n",
      "        [[z1,z1] for z1 in Z],\n",
      "        Omega,\n",
      "        batch=True,\n",
      "    )"
     ],
     "language": "python",
     "metadata": {},
     "outputs": []
    },
    {
     "cell_type": "code",
     "collapsed": false,
     "input": [
      "%matplotlib inline\n",
      "\n",
      "# plot the real part of theta\n",
      "U = U.reshape(N,N)\n",
      "\n",
      "fig = plt.figure(figsize=(18,12))\n",
      "ax = fig.add_subplot(1,1,1, projection='3d')\n",
      "ax.plot_surface(X, Y, U.real, cmap='jet')"
     ],
     "language": "python",
     "metadata": {},
     "outputs": []
    },
    {
     "cell_type": "markdown",
     "metadata": {},
     "source": [
      "Curves and Genus\n",
      "================\n",
      "\n",
      "Consider the curve\n",
      "\n",
      "$$\n",
      "C : f(x,y) = -x^7 + 2 x^3 y + y^3.\n",
      "$$\n",
      "\n",
      "We compute the genus of this curve."
     ]
    },
    {
     "cell_type": "code",
     "collapsed": false,
     "input": [
      "import sympy\n",
      "from sympy.abc import x,y\n",
      "\n",
      "f = -x**7 + 2*x**3*y + y**3"
     ],
     "language": "python",
     "metadata": {},
     "outputs": []
    },
    {
     "cell_type": "code",
     "collapsed": false,
     "input": [
      "g = genus(f,x,y)\n",
      "\n",
      "print 'genus =', g"
     ],
     "language": "python",
     "metadata": {},
     "outputs": []
    },
    {
     "cell_type": "markdown",
     "metadata": {},
     "source": [
      "Homology Basis\n",
      "==============\n",
      "\n",
      "We compute a basis of cycles for $\\Gamma$:"
     ]
    },
    {
     "cell_type": "code",
     "collapsed": false,
     "input": [
      "X = RiemannSurface(f,x,y)"
     ],
     "language": "python",
     "metadata": {},
     "outputs": []
    },
    {
     "cell_type": "code",
     "collapsed": false,
     "input": [
      "a, b = X.homology()"
     ],
     "language": "python",
     "metadata": {},
     "outputs": []
    },
    {
     "cell_type": "code",
     "collapsed": false,
     "input": [
      "alpha = X.base_point()\n",
      "betas = X.base_lift()\n",
      "P0 = alpha, betas\n",
      "\n",
      "gamma = RiemannSurfacePath((f,x,y), P0, cycle = a[0])"
     ],
     "language": "python",
     "metadata": {},
     "outputs": []
    },
    {
     "cell_type": "code",
     "collapsed": false,
     "input": [
      "gamma.plot(512, linewidth=5)"
     ],
     "language": "python",
     "metadata": {},
     "outputs": []
    },
    {
     "cell_type": "code",
     "collapsed": false,
     "input": [
      "%matplotlib osx\n",
      "\n",
      "gamma.plot3d(512, linewidth=5)"
     ],
     "language": "python",
     "metadata": {},
     "outputs": []
    },
    {
     "cell_type": "markdown",
     "metadata": {},
     "source": [
      "Basis of Holomorphic 1-forms\n",
      "============================\n",
      "\n",
      "We compute a basis of holomorphic 1-forms for $\\Gamma$:"
     ]
    },
    {
     "cell_type": "code",
     "collapsed": false,
     "input": [
      "omega = X.holomorphic_differentials()\n",
      "\n",
      "for omega_i in omega:\n",
      "    sympy.pprint(omega_i)\n",
      "    print"
     ],
     "language": "python",
     "metadata": {},
     "outputs": []
    },
    {
     "cell_type": "code",
     "collapsed": false,
     "input": [
      "# insert plot of holomorphic differential along one of the cycles"
     ],
     "language": "python",
     "metadata": {},
     "outputs": []
    },
    {
     "cell_type": "markdown",
     "metadata": {},
     "source": [
      "Period Matrix\n",
      "=============\n",
      "\n",
      "Finally, we integrate the basis of holomorphic 1-forms over the homology basis."
     ]
    },
    {
     "cell_type": "code",
     "collapsed": false,
     "input": [
      "A,B = X.period_matrix()"
     ],
     "language": "python",
     "metadata": {},
     "outputs": []
    },
    {
     "cell_type": "code",
     "collapsed": false,
     "input": [
      "print A"
     ],
     "language": "python",
     "metadata": {},
     "outputs": []
    },
    {
     "cell_type": "code",
     "collapsed": false,
     "input": [
      "print B"
     ],
     "language": "python",
     "metadata": {},
     "outputs": []
    },
    {
     "cell_type": "code",
     "collapsed": false,
     "input": [
      "Omega = dot(inv(A),B)\n",
      "\n",
      "print Omega"
     ],
     "language": "python",
     "metadata": {},
     "outputs": []
    },
    {
     "cell_type": "code",
     "collapsed": false,
     "input": [
      "# symmetric\n",
      "norm(Omega.T - Omega)"
     ],
     "language": "python",
     "metadata": {},
     "outputs": []
    },
    {
     "cell_type": "code",
     "collapsed": false,
     "input": [
      "# imaginary part is positive definite\n",
      "eigvals(Omega.imag)"
     ],
     "language": "python",
     "metadata": {},
     "outputs": []
    },
    {
     "cell_type": "code",
     "collapsed": false,
     "input": [],
     "language": "python",
     "metadata": {},
     "outputs": []
    },
    {
     "cell_type": "code",
     "collapsed": false,
     "input": [],
     "language": "python",
     "metadata": {},
     "outputs": []
    }
   ],
   "metadata": {}
  }
 ]
}